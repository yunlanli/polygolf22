{
 "cells": [
  {
   "cell_type": "code",
   "execution_count": 52,
   "metadata": {},
   "outputs": [],
   "source": [
    "import matplotlib.pyplot as plt\n",
    "import numpy as np\n",
    "import pandas as pd"
   ]
  },
  {
   "cell_type": "code",
   "execution_count": 53,
   "metadata": {},
   "outputs": [],
   "source": [
    "out_dir = \"data/cleaned\"\n",
    "out_file = f\"{out_dir}/tournament_results_short_formatted.csv\""
   ]
  },
  {
   "cell_type": "code",
   "execution_count": 54,
   "metadata": {},
   "outputs": [],
   "source": [
    "df = pd.read_csv(\"data/cleaned/tournament_results.csv\")\n",
    "# df.head()"
   ]
  },
  {
   "cell_type": "code",
   "execution_count": 55,
   "metadata": {},
   "outputs": [],
   "source": [
    "useful_columns = [ 'player_names', 'map', 'skills', 'scores', 'player_states', 'penalties', 'timeout_count', 'error_count', 'total_time_sorted' ]\n",
    "df = df.filter(items=useful_columns)"
   ]
  },
  {
   "cell_type": "code",
   "execution_count": 56,
   "metadata": {},
   "outputs": [],
   "source": [
    "column_rename_map = {k: v for k, v in enumerate(useful_columns)}\n",
    "S, F = 0, 1\n",
    "\n",
    "def get_int_from_polygolf_results(s):\n",
    "\treturn int(s[1:-1])\n",
    "\n",
    "def get_str_from_polygolf_results(s):\n",
    "\treturn str(s[2:-2])\n",
    "\n",
    "def map_polygolf_result_row(r):\n",
    "\tplayer = get_str_from_polygolf_results(r.player_names)\n",
    "\ttournament_map =str(r[\"map\"])\n",
    "\tskills = get_int_from_polygolf_results(r.skills)\n",
    "\tscores = get_int_from_polygolf_results(r.scores)\n",
    "\tplayer_states = 0 if get_str_from_polygolf_results(r.player_states) == 'S' else 1\n",
    "\tpenalties = get_int_from_polygolf_results(r.penalties)\n",
    "\ttimeouts = get_int_from_polygolf_results(r.timeout_count)\n",
    "\terrors = get_int_from_polygolf_results(r.error_count)\n",
    "\ttime = float(r.total_time_sorted.split(',')[1][:-2])\n",
    "\n",
    "\treturn pd.Series([player, tournament_map, skills, scores, player_states, penalties, timeouts, errors, time])"
   ]
  },
  {
   "cell_type": "code",
   "execution_count": 57,
   "metadata": {},
   "outputs": [],
   "source": [
    "df = df.apply(map_polygolf_result_row, axis=1).rename(columns=column_rename_map)\n",
    "# df.head()\n",
    "df.to_csv(out_file, index=False)"
   ]
  }
 ],
 "metadata": {
  "kernelspec": {
   "display_name": "Python 3.9.12 ('polygolf')",
   "language": "python",
   "name": "python3"
  },
  "language_info": {
   "codemirror_mode": {
    "name": "ipython",
    "version": 3
   },
   "file_extension": ".py",
   "mimetype": "text/x-python",
   "name": "python",
   "nbconvert_exporter": "python",
   "pygments_lexer": "ipython3",
   "version": "3.9.12"
  },
  "orig_nbformat": 4,
  "vscode": {
   "interpreter": {
    "hash": "7e19b8b6c014e69421f9c5223e9b00f32ef43727df6964a41d31521fab112a42"
   }
  }
 },
 "nbformat": 4,
 "nbformat_minor": 2
}
