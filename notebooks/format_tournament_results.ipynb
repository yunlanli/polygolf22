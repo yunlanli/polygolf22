{
 "cells": [
  {
   "cell_type": "code",
   "execution_count": 1,
   "metadata": {},
   "outputs": [],
   "source": [
    "import matplotlib.pyplot as plt\n",
    "import numpy as np\n",
    "import pandas as pd"
   ]
  },
  {
   "cell_type": "code",
   "execution_count": 2,
   "metadata": {},
   "outputs": [],
   "source": [
    "# constants\n",
    "out_dir = \"data/cleaned\""
   ]
  },
  {
   "cell_type": "code",
   "execution_count": 3,
   "metadata": {},
   "outputs": [],
   "source": [
    "def get_int_from_polygolf_results(s):\n",
    "\treturn int(s[1:-1])\n",
    "\n",
    "def get_str_from_polygolf_results(s):\n",
    "\treturn str(s[2:-2])"
   ]
  },
  {
   "cell_type": "code",
   "execution_count": 4,
   "metadata": {},
   "outputs": [],
   "source": [
    "def format(src_file, out_file):\n",
    "\tdf = pd.read_csv(src_file)\n",
    "\n",
    "\tuseful_columns = [ 'player_names', 'map', 'skills', 'scores', 'player_states', 'penalties', 'timeout_count', 'error_count', 'total_time_sorted' ]\n",
    "\tdf = df.filter(items=useful_columns)\n",
    "\n",
    "\tS, F = 0, 1\n",
    "\tdef map_polygolf_result_row(r):\n",
    "\t\tplayer = get_str_from_polygolf_results(r.player_names)\n",
    "\t\ttournament_map =str(r[\"map\"])\n",
    "\t\tskills = get_int_from_polygolf_results(r.skills)\n",
    "\t\tscores = get_int_from_polygolf_results(r.scores)\n",
    "\t\tplayer_states = 0 if get_str_from_polygolf_results(r.player_states) == 'S' else 1\n",
    "\t\tpenalties = get_int_from_polygolf_results(r.penalties)\n",
    "\t\ttimeouts = get_int_from_polygolf_results(r.timeout_count)\n",
    "\t\terrors = get_int_from_polygolf_results(r.error_count)\n",
    "\t\ttime = float(r.total_time_sorted.split(',')[1][:-2])\n",
    "\n",
    "\t\treturn pd.Series([player, tournament_map, skills, scores, player_states, penalties, timeouts, errors, time])\n",
    "\n",
    "\tcolumn_rename_map = {k: v for k, v in enumerate(useful_columns)}\n",
    "\tdf = df.apply(map_polygolf_result_row, axis=1).rename(columns=column_rename_map)\n",
    "\tdf.to_csv(out_file, index=False)"
   ]
  },
  {
   "cell_type": "code",
   "execution_count": 5,
   "metadata": {},
   "outputs": [],
   "source": [
    "# format Joe's tournament results data\n",
    "src_file = \"data/cleaned/tournament_results.csv\"\n",
    "out_file = f\"{out_dir}/tournament_results_short_formatted.csv\"\n",
    "format(src_file, out_file)"
   ]
  },
  {
   "cell_type": "code",
   "execution_count": 6,
   "metadata": {},
   "outputs": [],
   "source": [
    "# format mac rerun results and merge with tournament results\n",
    "src_m1_file = \"data/cleaned/tournament_g1_m1_rerun_results.csv\"\n",
    "out_m1_file = f\"{out_dir}/tournament_g1_m1_short_formatted.csv\"\n",
    "format(src_m1_file, out_m1_file)"
   ]
  },
  {
   "cell_type": "code",
   "execution_count": null,
   "metadata": {},
   "outputs": [],
   "source": [
    "player = 'Group 1'\n",
    "rerun_config = {\n",
    "\t\"2021_maps/g2/spider_par6.json\": [10],\n",
    "\t\"2021_maps/g7/complex2.json\": [10, 25, 50],\n",
    "\t\"maps/default/checkers2.json\": [50, 100],\n",
    "\t\"maps/g1/tournament.json\": [10, 25],\n",
    "\t\"maps/g2/mwc_swirly.json\": [10, 25, 50, 100],\n",
    "\t\"maps/g3/g3_tournament.json\": [10],\n",
    "\t\"maps/g4/chevuoi.json\": [10],\n",
    "\t\"maps/g4/jump.json\": [10, 25, 50],\n",
    "\t\"maps/g4/n.json\": [10, 25, 50, 100],\n",
    "\t\"maps/g5/tourney.json\": [10, 25, 50, 100],\n",
    "\t\"maps/g7/g7_final.json\": [10],\n",
    "\t\"maps/g8/risk_map.json\": [10, 25, 50],\n",
    "\t\"maps/g9/rhino_karma.json\": [10, 25, 50, 100]\n",
    "}\n",
    "\n",
    "tournament_results = pd.read_csv(out_file)\n",
    "\n",
    "for tmap, skills in rerun_config.items():\n",
    "\tcondition = (tournament_results['player_names'] != player) | (tournament_results['map'] != tmap)\n",
    "\tskill_condition = None\n",
    "\tfor skill in skills:\n",
    "\t\tif skill_condition is None:\n",
    "\t\t\tskill_condition = (tournament_results['skills'] != skill)\n",
    "\t\telse:\n",
    "\t\t\tskill_condition = skill_condition & (tournament_results['skills'] != skill)\n",
    "\n",
    "\tcondition = condition | skill_condition\n",
    "\n",
    "\ttournament_results = tournament_results[condition]\n",
    "\n",
    "\n",
    "checks = [\n",
    "\t(tournament_results['map'] == 'maps/g7/g7_final.json') & (tournament_results['player_names'] == player),\n",
    "\t(tournament_results['map'] == 'maps/g8/risk_map.json') & (tournament_results['player_names'] == player),\n",
    "\t(tournament_results['map'] == 'maps/g9/rhino_karma.json') & (tournament_results['player_names'] == player)\n",
    "]\n",
    "for check in checks:\n",
    "\t# print(tournament_results[check])\n",
    "\tpass\n",
    "\n",
    "rerun_m1_results = pd.read_csv(out_m1_file)"
   ]
  },
  {
   "cell_type": "code",
   "execution_count": null,
   "metadata": {},
   "outputs": [],
   "source": [
    "out_tournament_m1_file = 'data/cleaned/tournament_m1_results_short_formatted.csv'\n",
    "m1_results = pd.concat([tournament_results, rerun_m1_results])\n",
    "m1_results.to_csv(out_tournament_m1_file, index=False)"
   ]
  }
 ],
 "metadata": {
  "kernelspec": {
   "display_name": "Python 3.9.12 ('polygolf')",
   "language": "python",
   "name": "python3"
  },
  "language_info": {
   "codemirror_mode": {
    "name": "ipython",
    "version": 3
   },
   "file_extension": ".py",
   "mimetype": "text/x-python",
   "name": "python",
   "nbconvert_exporter": "python",
   "pygments_lexer": "ipython3",
   "version": "3.9.12"
  },
  "orig_nbformat": 4,
  "vscode": {
   "interpreter": {
    "hash": "7e19b8b6c014e69421f9c5223e9b00f32ef43727df6964a41d31521fab112a42"
   }
  }
 },
 "nbformat": 4,
 "nbformat_minor": 2
}
